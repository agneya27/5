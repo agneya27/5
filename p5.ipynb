{
 "cells": [
  {
   "cell_type": "code",
   "execution_count": 75,
   "id": "d913050d-a214-445f-b8e3-d2c9b35f3ac9",
   "metadata": {},
   "outputs": [],
   "source": [
    "import pandas as pd\n",
    "import numpy as np \n",
    "from sklearn.model_selection import train_test_split\n",
    "from sklearn.metrics import accuracy_score, precision_score, recall_score, f1_score"
   ]
  },
  {
   "cell_type": "code",
   "execution_count": 76,
   "id": "e2fe110c-17fc-4adf-abd5-dadf00c665d8",
   "metadata": {},
   "outputs": [],
   "source": [
    "\n",
    "class LogisticRegression:\n",
    "    def __init__(self, learning_rate=0.001, iterations=2000):\n",
    "        self.learning_rate = learning_rate\n",
    "        self.iterations = iterations\n",
    "\n",
    "    def add_intercept(self, X):\n",
    "        intercept = np.ones((X.shape[0], 1))\n",
    "        return np.concatenate((intercept, X), axis=1)\n",
    "\n",
    "    def sigmoid(self, z):\n",
    "        return 1 / (1 + np.exp(-z))\n",
    "\n",
    "    def cost(self, h, y):\n",
    "        return (-y * np.log(h) - (1 - y) * np.log(1 - h)).mean()\n",
    "\n",
    "    def fit(self, X, y):\n",
    "        X = self.add_intercept(X)\n",
    "        self.theta = np.zeros(X.shape[1])\n",
    "\n",
    "        for _ in range(self.iterations):\n",
    "            z = np.dot(X, self.theta)\n",
    "            h = self.sigmoid(z)\n",
    "            gradient = np.dot(X.T, (h - y)) / y.size\n",
    "            self.theta -= self.learning_rate * gradient\n",
    "\n",
    "    def predict_prob(self, X):\n",
    "        X = self.add_intercept(X)\n",
    "        return self.sigmoid(np.dot(X, self.theta))\n",
    "\n",
    "    def predict(self, X, threshold=0.5):\n",
    "        return self.predict_prob(X) >= threshold"
   ]
  },
  {
   "cell_type": "code",
   "execution_count": 77,
   "id": "0df3a959-3f78-49ac-8d19-d9edaed56581",
   "metadata": {},
   "outputs": [
    {
     "data": {
      "text/plain": [
       "(569,)"
      ]
     },
     "execution_count": 77,
     "metadata": {},
     "output_type": "execute_result"
    }
   ],
   "source": [
    "data = pd.read_csv(\"Breastcancer_data.csv\")\n",
    "X = data.iloc[:,2:32].values\n",
    "X = np.float64(X)\n",
    "y = data.iloc[:,1].values\n",
    "y = np.where(y == 'M', 1, 0)\n",
    "y.shape"
   ]
  },
  {
   "cell_type": "code",
   "execution_count": 78,
   "id": "8687ecc8-c919-4f81-a0a3-2064a19c264e",
   "metadata": {},
   "outputs": [],
   "source": [
    "X_train, X_temp, y_train, y_temp = train_test_split(X, y, test_size=0.3, random_state=0)\n",
    "X_val, X_test, y_val, y_test = train_test_split(X_temp, y_temp, test_size=0.5, random_state=0)"
   ]
  },
  {
   "cell_type": "code",
   "execution_count": 79,
   "id": "4c2b0469-7c11-4116-a828-a787b1ea2065",
   "metadata": {},
   "outputs": [
    {
     "name": "stdout",
     "output_type": "stream",
     "text": [
      "[1.14082835e-34 5.65067935e-31 8.35279115e-41 1.00000000e+00\n",
      " 1.70470854e-39 9.86531087e-30 1.00000000e+00 1.00000000e+00\n",
      " 7.22934316e-20 3.89426053e-34 1.00000000e+00 1.00000000e+00\n",
      " 2.65753858e-11 1.00000000e+00 2.23996407e-43 1.00000000e+00\n",
      " 1.86004955e-46 5.97261972e-40 3.86278347e-57 1.00000000e+00\n",
      " 4.94902578e-21 1.00000000e+00 5.57644775e-40 3.73229810e-55\n",
      " 1.72089646e-31 9.99753547e-01 9.99987914e-01 1.00000000e+00\n",
      " 1.00000000e+00 1.00000000e+00 2.04811738e-45 8.60671784e-01\n",
      " 1.28475131e-23 1.00000000e+00 3.34642565e-20 8.41273258e-30\n",
      " 1.00000000e+00 5.74248853e-08 1.98085185e-27 4.54883463e-11\n",
      " 4.33858749e-47 1.00000000e+00 1.00000000e+00 6.16242615e-44\n",
      " 8.56548530e-37 1.00000000e+00 6.86354806e-16 6.15687616e-35\n",
      " 1.08204420e-42 9.41811161e-53 1.22237894e-38 2.73917202e-21\n",
      " 4.19718956e-35 1.00000000e+00 2.41619820e-33 9.26630887e-37\n",
      " 8.70495820e-36 8.96199760e-07 1.00000000e+00 1.00000000e+00\n",
      " 1.00473516e-23 1.00000000e+00 1.37524804e-21 3.99469956e-18\n",
      " 1.13922969e-19 1.00000000e+00 2.19932561e-29 4.33777307e-36\n",
      " 3.99845917e-06 1.00000000e+00 5.71361512e-34 1.00000000e+00\n",
      " 1.00000000e+00 1.03895029e-30 1.11392000e-29 1.00000000e+00\n",
      " 1.00000000e+00 3.16432672e-45 9.62874495e-01 1.00000000e+00\n",
      " 1.79860881e-46 8.15797514e-21 1.00000000e+00 3.68155628e-41\n",
      " 4.49161707e-18]\n"
     ]
    },
    {
     "name": "stderr",
     "output_type": "stream",
     "text": [
      "/tmp/ipykernel_25547/3700263369.py:11: RuntimeWarning: overflow encountered in exp\n",
      "  return 1 / (1 + np.exp(-z))\n"
     ]
    }
   ],
   "source": [
    "model = LogisticRegression()\n",
    "model.fit(X_train, y_train)\n",
    "val_predictions = model.predict(X_val)\n",
    "val_predictions_prob = model.predict_prob(X_val)\n",
    "print(val_predictions_prob)"
   ]
  },
  {
   "cell_type": "code",
   "execution_count": 80,
   "id": "6ca8ffbd-e0cc-4fad-b818-f2726a92a06f",
   "metadata": {},
   "outputs": [
    {
     "name": "stdout",
     "output_type": "stream",
     "text": [
      "Validation Set Metrics:\n",
      "Accuracy: 0.92\n",
      "Precision: 0.79\n",
      "Recall: 1.00\n",
      "F1 Score: 0.88\n"
     ]
    }
   ],
   "source": [
    "accuracy = accuracy_score(y_val, val_predictions)\n",
    "precision = precision_score(y_val, val_predictions)\n",
    "recall = recall_score(y_val, val_predictions)\n",
    "f1 = f1_score(y_val, val_predictions)\n",
    "\n",
    "print(\"Validation Set Metrics:\")\n",
    "print(\"Accuracy: {:.2f}\".format(accuracy))\n",
    "print(\"Precision: {:.2f}\".format(precision))\n",
    "print(\"Recall: {:.2f}\".format(recall))\n",
    "print(\"F1 Score: {:.2f}\".format(f1))"
   ]
  },
  {
   "cell_type": "code",
   "execution_count": 81,
   "id": "1e82212e-5e54-4e06-9bb5-a2c8bf8bb00f",
   "metadata": {},
   "outputs": [
    {
     "name": "stdout",
     "output_type": "stream",
     "text": [
      "[[52  7]\n",
      " [ 0 26]]\n",
      "Class 0 predicted and true : \n",
      "52\n",
      "Class 0 predicted and false : \n",
      "7\n",
      "Class 1 predicted and false : \n",
      "0\n",
      "Class 1 predicted and true : \n",
      "26\n"
     ]
    }
   ],
   "source": [
    "from sklearn.metrics import confusion_matrix\n",
    "confusion = confusion_matrix(y_val,val_predictions)\n",
    "print(confusion)\n",
    "print(\"Class 0 predicted and true : \")\n",
    "print(confusion[0][0])\n",
    "print(\"Class 0 predicted and false : \")\n",
    "print(confusion[0][1])\n",
    "print(\"Class 1 predicted and false : \")\n",
    "print(confusion[1][0])\n",
    "print(\"Class 1 predicted and true : \")\n",
    "print(confusion[1][1])"
   ]
  },
  {
   "cell_type": "code",
   "execution_count": 82,
   "id": "20dcdec1-dd6b-4f45-8c4e-2411480f4874",
   "metadata": {},
   "outputs": [
    {
     "data": {
      "text/plain": [
       "[0, 1, 1, 0, 0, 0, 1, 0, 1, 0, 0, 1, 0, 0, 0, 1, 0, 1, 1, 0]"
      ]
     },
     "execution_count": 82,
     "metadata": {},
     "output_type": "execute_result"
    }
   ],
   "source": [
    "import random\n",
    "X_valid = []\n",
    "Y_valid = []\n",
    "for i in range (0,20):\n",
    "    index = random.randint(0,500)\n",
    "    X_valid.append(X[index])\n",
    "    Y_valid.append(y[index])\n",
    "    \n",
    "Y_valid"
   ]
  },
  {
   "cell_type": "code",
   "execution_count": 83,
   "id": "eaedf54b-5436-4251-8df2-44e8fc9b0408",
   "metadata": {},
   "outputs": [],
   "source": [
    "df = pd.DataFrame(X_valid)\n",
    "df.to_csv(\"Valid_Data.csv\")"
   ]
  },
  {
   "cell_type": "code",
   "execution_count": 84,
   "id": "5d407523-5914-4e59-9ed4-17d05794eb5a",
   "metadata": {},
   "outputs": [],
   "source": [
    "data = pd.read_csv(\"Valid_Data.csv\")\n",
    "X = np.float64(X_valid)"
   ]
  },
  {
   "cell_type": "code",
   "execution_count": 85,
   "id": "91117b7c-319c-4fad-a364-240f91f36017",
   "metadata": {},
   "outputs": [
    {
     "data": {
      "text/plain": [
       "array([False,  True,  True, False, False, False,  True, False,  True,\n",
       "       False,  True,  True, False, False, False,  True,  True,  True,\n",
       "       False, False])"
      ]
     },
     "execution_count": 85,
     "metadata": {},
     "output_type": "execute_result"
    }
   ],
   "source": [
    "val_predictions = model.predict(X)\n",
    "val_predictions"
   ]
  },
  {
   "cell_type": "code",
   "execution_count": 86,
   "id": "0f347ff1-f24c-4f3c-a788-72e52c22e229",
   "metadata": {},
   "outputs": [
    {
     "name": "stdout",
     "output_type": "stream",
     "text": [
      "Accuracy: 0.85\n",
      "Precision: 0.78\n",
      "Recall: 0.88\n",
      "F1 Score: 0.82\n"
     ]
    }
   ],
   "source": [
    "accuracy = accuracy_score(Y_valid, val_predictions)\n",
    "precision = precision_score(Y_valid, val_predictions)\n",
    "recall = recall_score(Y_valid, val_predictions)\n",
    "f1 = f1_score(Y_valid, val_predictions)\n",
    "\n",
    "\n",
    "print(\"Accuracy: {:.2f}\".format(accuracy))\n",
    "print(\"Precision: {:.2f}\".format(precision))\n",
    "print(\"Recall: {:.2f}\".format(recall))\n",
    "print(\"F1 Score: {:.2f}\".format(f1))"
   ]
  },
  {
   "cell_type": "code",
   "execution_count": 87,
   "id": "daf98a0f-05f8-43f8-98a5-b40487511b97",
   "metadata": {},
   "outputs": [
    {
     "name": "stdout",
     "output_type": "stream",
     "text": [
      "[[10  2]\n",
      " [ 1  7]]\n",
      "Class 0 predicted and true : \n",
      "10\n",
      "Class 0 predicted and false : \n",
      "2\n",
      "Class 1 predicted and false : \n",
      "1\n",
      "Class 1 predicted and true : \n",
      "7\n"
     ]
    }
   ],
   "source": [
    "from sklearn.metrics import confusion_matrix\n",
    "confusion = confusion_matrix(Y_valid,val_predictions)\n",
    "print(confusion)\n",
    "print(\"Class 0 predicted and true : \")\n",
    "print(confusion[0][0])\n",
    "print(\"Class 0 predicted and false : \")\n",
    "print(confusion[0][1])\n",
    "print(\"Class 1 predicted and false : \")\n",
    "print(confusion[1][0])\n",
    "print(\"Class 1 predicted and true : \")\n",
    "print(confusion[1][1])"
   ]
  },
  {
   "cell_type": "code",
   "execution_count": 88,
   "id": "ce0c49b0-b750-4ec8-ad3d-7df4d1388e10",
   "metadata": {},
   "outputs": [
    {
     "name": "stderr",
     "output_type": "stream",
     "text": [
      "/tmp/ipykernel_25547/3700263369.py:11: RuntimeWarning: overflow encountered in exp\n",
      "  return 1 / (1 + np.exp(-z))\n",
      "/tmp/ipykernel_25547/3700263369.py:11: RuntimeWarning: overflow encountered in exp\n",
      "  return 1 / (1 + np.exp(-z))\n",
      "/tmp/ipykernel_25547/3700263369.py:11: RuntimeWarning: overflow encountered in exp\n",
      "  return 1 / (1 + np.exp(-z))\n",
      "/tmp/ipykernel_25547/3700263369.py:11: RuntimeWarning: overflow encountered in exp\n",
      "  return 1 / (1 + np.exp(-z))\n",
      "/tmp/ipykernel_25547/3700263369.py:11: RuntimeWarning: overflow encountered in exp\n",
      "  return 1 / (1 + np.exp(-z))\n",
      "/tmp/ipykernel_25547/3700263369.py:11: RuntimeWarning: overflow encountered in exp\n",
      "  return 1 / (1 + np.exp(-z))\n",
      "/tmp/ipykernel_25547/3700263369.py:11: RuntimeWarning: overflow encountered in exp\n",
      "  return 1 / (1 + np.exp(-z))\n",
      "/tmp/ipykernel_25547/3700263369.py:11: RuntimeWarning: overflow encountered in exp\n",
      "  return 1 / (1 + np.exp(-z))\n",
      "/tmp/ipykernel_25547/3700263369.py:11: RuntimeWarning: overflow encountered in exp\n",
      "  return 1 / (1 + np.exp(-z))\n",
      "/tmp/ipykernel_25547/3700263369.py:11: RuntimeWarning: overflow encountered in exp\n",
      "  return 1 / (1 + np.exp(-z))\n"
     ]
    }
   ],
   "source": [
    "# %pip install matplotlib\n",
    "import matplotlib.pyplot as plt\n",
    "acc = []\n",
    "iterations = 0\n",
    "for i in range (0,10):\n",
    "    learning_rate = random.randint(1,9)\n",
    "    learning_rate = learning_rate/1000\n",
    "    iterations = 1000+ iterations\n",
    "    model = LogisticRegression(learning_rate=learning_rate,iterations=iterations)\n",
    "    model.fit(X_train, y_train)\n",
    "    val_predictions = model.predict(X)\n",
    "    accuracy = accuracy_score(Y_valid, val_predictions)\n",
    "    acc.append(accuracy)"
   ]
  },
  {
   "cell_type": "code",
   "execution_count": 89,
   "id": "5180d8c1-7cea-4f17-8351-5f49172acdf5",
   "metadata": {},
   "outputs": [
    {
     "name": "stdout",
     "output_type": "stream",
     "text": [
      "[0.6, 0.85, 0.85, 0.85, 0.85, 0.8, 0.9, 0.9, 0.9, 0.9]\n"
     ]
    }
   ],
   "source": [
    "print(acc)"
   ]
  },
  {
   "cell_type": "code",
   "execution_count": 90,
   "id": "04b7c396-962d-42e3-87be-9d4f3f89179e",
   "metadata": {},
   "outputs": [
    {
     "data": {
      "text/plain": [
       "[<matplotlib.lines.Line2D at 0x7f07cb8e2b30>]"
      ]
     },
     "execution_count": 90,
     "metadata": {},
     "output_type": "execute_result"
    },
    {
     "data": {
      "image/png": "[encoded data removed]",
      "text/plain": [
       "<Figure size 640x480 with 1 Axes>"
      ]
     },
     "metadata": {},
     "output_type": "display_data"
    }
   ],
   "source": [
    "x = [100,200,300,400,500,600,700,800,900,1000]\n",
    "plt.xlabel(\"No. of iterations\")\n",
    "plt.ylabel(\"Accuracy\")\n",
    "plt.plot(x,acc)"
   ]
  },
  {
   "cell_type": "code",
   "execution_count": null,
   "id": "f920b3e9-0223-4fdd-b2bd-946cd9905cbb",
   "metadata": {},
   "outputs": [],
   "source": []
  },
  {
   "cell_type": "code",
   "execution_count": null,
   "id": "83aa9bbe-fea8-4b4d-9b37-7c16daaf7a47",
   "metadata": {},
   "outputs": [],
   "source": []
  }
 ],
 "metadata": {
  "kernelspec": {
   "display_name": "Python 3 (ipykernel)",
   "language": "python",
   "name": "python3"
  },
  "language_info": {
   "codemirror_mode": {
    "name": "ipython",
    "version": 3
   },
   "file_extension": ".py",
   "mimetype": "text/x-python",
   "name": "python",
   "nbconvert_exporter": "python",
   "pygments_lexer": "ipython3",
   "version": "3.11.4"
  }
 },
 "nbformat": 4,
 "nbformat_minor": 5
}
